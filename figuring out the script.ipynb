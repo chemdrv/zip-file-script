{
 "cells": [
  {
   "cell_type": "code",
   "execution_count": 11,
   "metadata": {},
   "outputs": [],
   "source": [
    "import os\n",
    "from os.path import join\n",
    "import zipfile\n",
    "import glob"
   ]
  },
  {
   "cell_type": "markdown",
   "metadata": {},
   "source": [
    "# Some information\n",
    "\n",
    "The way this works. First it grabs a list of every pdf in the folder you're currently in. So, you need to be in the right folder. I can also change it to take a path as a variable, I just haven't bothered to be that clever yet. But anyway, `glob.glob('*pdf')` is the line that grabs all filenames meeting the spec of being a PDF.\n",
    "\n",
    "Then it does some initial setup. I set the size of the target file in kb. `archive_number` is an iterator to set what zip file number I'm in. Then I construct the filename for the first zip file and open it up.\n",
    "\n",
    "Then there's the loop to actually do it. Within the loop, it's stepping through each file in the glob. It writes each file, and then checks the zip file size. If the file size has gone over the target size, that triggers the `if` statement. Within that statement, the current file is closed, the archive number is increased by one, and a new archive opened up.\n",
    "\n",
    "After the loop is over, the current file is closed.\n"
   ]
  },
  {
   "cell_type": "code",
   "execution_count": 2,
   "metadata": {},
   "outputs": [
    {
     "name": "stdout",
     "output_type": "stream",
     "text": [
      "current file size is 369.894 kb, give or take\n",
      "current file size is 573.463 kb, give or take\n",
      "current file size is 898.921 kb, give or take\n",
      "current file size is 1101.79 kb, give or take\n",
      "current file size is 1339.196 kb, give or take\n",
      "current file size is 1814.49 kb, give or take\n",
      "current file size is 2279.15 kb, give or take\n",
      "current file size is 4073.563 kb, give or take\n",
      "current file size is 5479.265 kb, give or take\n",
      "current file size is 6512.412 kb, give or take\n",
      "current file size is 9755.172 kb, give or take\n",
      "current file size is 10533.326 kb, give or take\n",
      "reached target file size\n",
      "closing file  zip1.zip\n",
      "iterating number to  2\n",
      "opening file  zip2.zip\n",
      "current file size is 2576.436 kb, give or take\n",
      "current file size is 3113.339 kb, give or take\n",
      "current file size is 4079.43 kb, give or take\n",
      "current file size is 6400.33 kb, give or take\n",
      "current file size is 6917.917 kb, give or take\n",
      "current file size is 7508.103 kb, give or take\n",
      "current file size is 7852.392 kb, give or take\n",
      "current file size is 9487.55 kb, give or take\n",
      "current file size is 10447.187 kb, give or take\n",
      "reached target file size\n",
      "closing file  zip2.zip\n",
      "iterating number to  3\n",
      "opening file  zip3.zip\n",
      "current file size is 821.403 kb, give or take\n",
      "current file size is 2324.344 kb, give or take\n",
      "current file size is 3777.544 kb, give or take\n"
     ]
    }
   ],
   "source": [
    "filelist = glob.glob('*.pdf')\n",
    "\n",
    "target_size = 10000\n",
    "\n",
    "archive_number = 1\n",
    "\n",
    "archive_name = f'zip{archive_number}.zip'\n",
    "\n",
    "myzip = zipfile.ZipFile(archive_name, 'w', compression=zipfile.ZIP_DEFLATED)\n",
    "\n",
    "for file in filelist:\n",
    "    myzip.write(file)\n",
    "    current_size = os.stat(archive_name).st_size/1000\n",
    "    print(\"current file size is\", current_size, \"kb, give or take\")\n",
    "    if current_size > (target_size):\n",
    "        print(\"reached target file size\")\n",
    "        print(\"closing file \", archive_name)\n",
    "        myzip.close()\n",
    "        \n",
    "        archive_number = archive_number+1\n",
    "        print(\"iterating number to \", archive_number)\n",
    "\n",
    "        archive_name = str('zip'+str(archive_number)+'.zip')\n",
    "        print(\"opening file \", archive_name)\n",
    "        myzip = zipfile.ZipFile(archive_name, 'w', compression=zipfile.ZIP_DEFLATED)\n",
    "\n",
    "    \n",
    "myzip.close()"
   ]
  },
  {
   "cell_type": "markdown",
   "metadata": {},
   "source": [
    "# Version two\n",
    "\n",
    "Gradescope made the file organization different. Now each file is in a sub folder with the structure `student name/filename.whatev` or something like that. Each file needs to be renamed to include the student name in the file name, and then zipped up.\n",
    "\n",
    "My solution ends up adding in a precursor step, and then running the same old script. I use `os.walk()` to grab all the files in my current working directory. I grab off the directory information and do a rename+move (by changing the directory in the rename). This gives me exactly the file sstructure I had previously, so I can then use the last script as needed.\n",
    "\n",
    "## Some warnings\n",
    "\n",
    "I haven't tested this extensively. You should have a backup copy of the files before you run it the first time, please! I feel like I'm doing something sketchy with the copying/renaming. Also, I don't know that it's robust to having files in the main folder. Let me know what edge cases you find and I can refine it.\n",
    "\n",
    "## A note about structure\n",
    "\n",
    "I've given you two things. The cell right below this is just the **new** code. The cell below that combines both bits of code into one cell."
   ]
  },
  {
   "cell_type": "code",
   "execution_count": 60,
   "metadata": {},
   "outputs": [
    {
     "name": "stdout",
     "output_type": "stream",
     "text": [
      "Found it\n",
      "name is ED599247.pdf. newname is thing 1_ED599247.pdf\n",
      "Found it\n",
      "name is ED603404.pdf. newname is thing 2_ED603404.pdf\n",
      "Found it\n",
      "name is EJ1215323.pdf. newname is thing 3_EJ1215323.pdf\n",
      "Found it\n",
      "name is EJ1219535.pdf. newname is thing 4_EJ1219535.pdf\n"
     ]
    }
   ],
   "source": [
    "for root, dirs, files in os.walk('.'):\n",
    "    #print(dirs)\n",
    "    for name in files:\n",
    "        \n",
    "        (base, ext) = os.path.splitext(name) #grab off the extension so it's only manipulating pdfs\n",
    "        if ext == '.pdf':\n",
    "            #The next part does the name change\n",
    "            # First, I split up the full path (root) into pieces and grab the last piece\n",
    "            # That piece is the directory name right above the fill, which is your student name\n",
    "            # I make a string that concatenates this directory name, a spacer underscore, and the original filename\n",
    "            \n",
    "            directory_name = os.path.split(root)[-1]\n",
    "            if directory_name != \".\":\n",
    "                #Only do filename changes on files in subfolders\n",
    "                print(\"Found it\")\n",
    "                newname = directory_name + \"_\" + name\n",
    "                print(f\"name is {name}. newname is {newname}\")\n",
    "            \n",
    "            # Finally, I'll rename the file and move it into the main folder\n",
    "            os.rename(os.path.join(root, name), newname)\n"
   ]
  },
  {
   "cell_type": "code",
   "execution_count": 61,
   "metadata": {
    "scrolled": true
   },
   "outputs": [
    {
     "ename": "FileExistsError",
     "evalue": "[WinError 183] Cannot create a file when that file already exists: '.\\\\EJ1233503.pdf' -> 'thing 4_EJ1219535.pdf'",
     "output_type": "error",
     "traceback": [
      "\u001b[1;31m---------------------------------------------------------------------------\u001b[0m",
      "\u001b[1;31mFileExistsError\u001b[0m                           Traceback (most recent call last)",
      "\u001b[1;32m<ipython-input-61-5091b58f5b3d>\u001b[0m in \u001b[0;36m<module>\u001b[1;34m\u001b[0m\n\u001b[0;32m     18\u001b[0m \u001b[1;33m\u001b[0m\u001b[0m\n\u001b[0;32m     19\u001b[0m             \u001b[1;31m# Finally, I'll rename the file and move it into the main folder\u001b[0m\u001b[1;33m\u001b[0m\u001b[1;33m\u001b[0m\u001b[1;33m\u001b[0m\u001b[0m\n\u001b[1;32m---> 20\u001b[1;33m             \u001b[0mos\u001b[0m\u001b[1;33m.\u001b[0m\u001b[0mrename\u001b[0m\u001b[1;33m(\u001b[0m\u001b[0mos\u001b[0m\u001b[1;33m.\u001b[0m\u001b[0mpath\u001b[0m\u001b[1;33m.\u001b[0m\u001b[0mjoin\u001b[0m\u001b[1;33m(\u001b[0m\u001b[0mroot\u001b[0m\u001b[1;33m,\u001b[0m \u001b[0mname\u001b[0m\u001b[1;33m)\u001b[0m\u001b[1;33m,\u001b[0m \u001b[0mnewname\u001b[0m\u001b[1;33m)\u001b[0m\u001b[1;33m\u001b[0m\u001b[1;33m\u001b[0m\u001b[0m\n\u001b[0m\u001b[0;32m     21\u001b[0m \u001b[1;33m\u001b[0m\u001b[0m\n\u001b[0;32m     22\u001b[0m \u001b[1;33m\u001b[0m\u001b[0m\n",
      "\u001b[1;31mFileExistsError\u001b[0m: [WinError 183] Cannot create a file when that file already exists: '.\\\\EJ1233503.pdf' -> 'thing 4_EJ1219535.pdf'"
     ]
    }
   ],
   "source": [
    "for root, dirs, files in os.walk('.'):\n",
    "    #print(dirs)\n",
    "    for name in files:\n",
    "        \n",
    "        (base, ext) = os.path.splitext(name) #grab off the extension so it's only manipulating pdfs\n",
    "        if ext == '.pdf':\n",
    "            #The next part does the name change\n",
    "            # First, I split up the full path (root) into pieces and grab the last piece\n",
    "            # That piece is the directory name right above the fill, which is your student name\n",
    "            # I make a string that concatenates this directory name, a spacer underscore, and the original filename\n",
    "            \n",
    "            directory_name = os.path.split(root)[-1]\n",
    "            if directory_name != \".\":\n",
    "                #Only do filename changes on files in subfolders\n",
    "                print(\"Found it\")\n",
    "                newname = directory_name + \"_\" + name\n",
    "                print(f\"name is {name}. newname is {newname}\")\n",
    "            \n",
    "            # Finally, I'll rename the file and move it into the main folder\n",
    "            os.rename(os.path.join(root, name), newname)\n",
    "\n",
    "\n",
    "\n",
    "filelist = glob.glob('*.pdf')\n",
    "\n",
    "target_size = 10000\n",
    "\n",
    "archive_number = 1\n",
    "\n",
    "archive_name = f'zip{archive_number}.zip'\n",
    "\n",
    "myzip = zipfile.ZipFile(archive_name, 'w', compression=zipfile.ZIP_DEFLATED)\n",
    "\n",
    "for file in filelist:\n",
    "    myzip.write(file)\n",
    "    current_size = os.stat(archive_name).st_size/1000\n",
    "    print(\"current file size is\", current_size, \"kb, give or take\")\n",
    "    if current_size > (target_size):\n",
    "        print(\"reached target file size\")\n",
    "        print(\"closing file \", archive_name)\n",
    "        myzip.close()\n",
    "        \n",
    "        archive_number = archive_number+1\n",
    "        print(\"iterating number to \", archive_number)\n",
    "\n",
    "        archive_name = str('zip'+str(archive_number)+'.zip')\n",
    "        print(\"opening file \", archive_name)\n",
    "        myzip = zipfile.ZipFile(archive_name, 'w', compression=zipfile.ZIP_DEFLATED)\n",
    "\n",
    "    \n",
    "myzip.close()"
   ]
  },
  {
   "cell_type": "code",
   "execution_count": null,
   "metadata": {},
   "outputs": [],
   "source": []
  },
  {
   "cell_type": "code",
   "execution_count": null,
   "metadata": {},
   "outputs": [],
   "source": []
  }
 ],
 "metadata": {
  "kernelspec": {
   "display_name": "Python 3",
   "language": "python",
   "name": "python3"
  },
  "language_info": {
   "codemirror_mode": {
    "name": "ipython",
    "version": 3
   },
   "file_extension": ".py",
   "mimetype": "text/x-python",
   "name": "python",
   "nbconvert_exporter": "python",
   "pygments_lexer": "ipython3",
   "version": "3.8.5"
  }
 },
 "nbformat": 4,
 "nbformat_minor": 4
}
