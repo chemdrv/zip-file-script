{
 "cells": [
  {
   "cell_type": "code",
   "execution_count": 2,
   "metadata": {},
   "outputs": [],
   "source": [
    "import os\n",
    "import zipfile\n",
    "import glob"
   ]
  },
  {
   "cell_type": "markdown",
   "metadata": {},
   "source": [
    "# Grabbing the list of filenames"
   ]
  },
  {
   "cell_type": "code",
   "execution_count": 43,
   "metadata": {},
   "outputs": [],
   "source": [
    "thingy = glob.glob('*.pdf')"
   ]
  },
  {
   "cell_type": "code",
   "execution_count": 50,
   "metadata": {},
   "outputs": [
    {
     "name": "stdout",
     "output_type": "stream",
     "text": [
      "BougotRobin2016.pdf thing2e\n",
      "ED599247.pdf thing2e\n",
      "ED603404.pdf thing2e\n",
      "EJ1211980.pdf thing2e\n",
      "EJ1215323.pdf thing2e\n",
      "EJ1219535.pdf thing2e\n",
      "EJ1233503.pdf thing2e\n",
      "EJ1242557.pdf thing2e\n",
      "Fisher2019.pdf thing2e\n",
      "Fisher2020.pdf thing2e\n",
      "Green 2020.pdf thing2e\n",
      "Jin2018.pdf thing2e\n",
      "Kenney2020_Article_LinearProgrammingModelsIdentif.pdf thing2e\n",
      "Langbeheim2020.pdf thing2e\n",
      "Menke2020.pdf thing2e\n",
      "Moglich2018.pdf thing2e\n",
      "Navarre2020.pdf thing2e\n",
      "Perri2020.pdf thing2e\n",
      "Srnec2016.pdf thing2e\n",
      "Srnec2017.pdf thing2e\n",
      "Tan2020.pdf thing2e\n",
      "Vargas2020.pdf thing2e\n",
      "Weiss2017.pdf thing2e\n",
      "Weiss2017b.pdf thing2e\n",
      "Weiss2020.pdf thing2e\n"
     ]
    }
   ],
   "source": [
    "for file in thingy:\n",
    "    print(file, \"thing2e\")"
   ]
  },
  {
   "cell_type": "markdown",
   "metadata": {},
   "source": [
    "## Setting up a sample zip file"
   ]
  },
  {
   "cell_type": "code",
   "execution_count": 51,
   "metadata": {},
   "outputs": [
    {
     "name": "stdout",
     "output_type": "stream",
     "text": [
      "current file size is 5984.274 kb, give or take\n",
      "current file size is 6354.168 kb, give or take\n",
      "current file size is 6557.737 kb, give or take\n",
      "current file size is 6883.195 kb, give or take\n",
      "current file size is 7086.064 kb, give or take\n",
      "current file size is 7323.47 kb, give or take\n",
      "current file size is 7798.764 kb, give or take\n",
      "current file size is 8263.424 kb, give or take\n",
      "current file size is 10057.837 kb, give or take\n",
      "current file size is 11463.539 kb, give or take\n",
      "current file size is 12496.686 kb, give or take\n",
      "current file size is 15739.446 kb, give or take\n",
      "current file size is 16517.6 kb, give or take\n",
      "current file size is 19094.036 kb, give or take\n",
      "current file size is 19630.939 kb, give or take\n",
      "current file size is 20597.03 kb, give or take\n",
      "current file size is 22917.93 kb, give or take\n",
      "current file size is 23435.517 kb, give or take\n",
      "current file size is 24025.703 kb, give or take\n",
      "current file size is 24369.992 kb, give or take\n",
      "current file size is 26005.15 kb, give or take\n",
      "current file size is 26964.787 kb, give or take\n",
      "current file size is 27786.19 kb, give or take\n",
      "current file size is 29289.131 kb, give or take\n",
      "current file size is 30742.331 kb, give or take\n"
     ]
    }
   ],
   "source": [
    "with zipfile.ZipFile('test2.zip', 'w', compression=zipfile.ZIP_DEFLATED) as myzip:\n",
    "    for file in thingy:\n",
    "        myzip.write(file)\n",
    "        print(\"current file size is\", os.stat('test2.zip').st_size/1000, \"kb, give or take\")\n"
   ]
  },
  {
   "cell_type": "code",
   "execution_count": 30,
   "metadata": {},
   "outputs": [],
   "source": [
    "thingy=os.stat('test2.zip').st_size"
   ]
  },
  {
   "cell_type": "code",
   "execution_count": 31,
   "metadata": {},
   "outputs": [
    {
     "data": {
      "text/plain": [
       "2569.83"
      ]
     },
     "execution_count": 31,
     "metadata": {},
     "output_type": "execute_result"
    }
   ],
   "source": [
    "thingy/1000"
   ]
  },
  {
   "cell_type": "markdown",
   "metadata": {},
   "source": [
    "# Okay lets do this\n",
    "\n",
    "The strucutre the thing\n",
    "\n",
    "thingy = glob.glob('*.pdf')\n",
    "\n",
    "current_zip_filename=zip1.zip\n",
    "zip_archive_size = 10000\n",
    "\n",
    "myzip.initial_open_thing(not a with)\n",
    "\n",
    "for file in glob.listy.thing:\n",
    "    myzip.write(file)\n",
    "    if (current_zip_filename.size()>zip_archive_size\n",
    "        myzip.close\n",
    "        make a new file name: append iterator by 1, stitch it together using os.path? or string methods\n",
    "        myzip.open(newfilename)"
   ]
  },
  {
   "cell_type": "code",
   "execution_count": 3,
   "metadata": {},
   "outputs": [
    {
     "name": "stdout",
     "output_type": "stream",
     "text": [
      "current file size is 5984.274 kb, give or take\n",
      "current file size is 6354.168 kb, give or take\n",
      "current file size is 6557.737 kb, give or take\n",
      "current file size is 6883.195 kb, give or take\n",
      "current file size is 7086.064 kb, give or take\n",
      "current file size is 7323.47 kb, give or take\n",
      "current file size is 7798.764 kb, give or take\n",
      "current file size is 8263.424 kb, give or take\n",
      "current file size is 10057.837 kb, give or take\n",
      "reached target file size\n",
      "closing file  zip1.zip\n",
      "iterating number to  2\n",
      "opening file  zip2.zip\n",
      "current file size is 1405.702 kb, give or take\n",
      "current file size is 2438.849 kb, give or take\n",
      "current file size is 5681.609 kb, give or take\n",
      "current file size is 6459.763 kb, give or take\n",
      "current file size is 9036.199 kb, give or take\n",
      "current file size is 9573.102 kb, give or take\n",
      "current file size is 10539.193 kb, give or take\n",
      "reached target file size\n",
      "closing file  zip2.zip\n",
      "iterating number to  3\n",
      "opening file  zip3.zip\n",
      "current file size is 2320.9 kb, give or take\n",
      "current file size is 2838.487 kb, give or take\n",
      "current file size is 3428.673 kb, give or take\n",
      "current file size is 3772.962 kb, give or take\n",
      "current file size is 5408.12 kb, give or take\n",
      "current file size is 6367.757 kb, give or take\n",
      "current file size is 7189.16 kb, give or take\n",
      "current file size is 8692.101 kb, give or take\n",
      "current file size is 10145.301 kb, give or take\n",
      "reached target file size\n",
      "closing file  zip3.zip\n",
      "iterating number to  4\n",
      "opening file  zip4.zip\n"
     ]
    }
   ],
   "source": [
    "filelist = glob.glob('*.pdf')\n",
    "\n",
    "current_zip_filename = \"zip1.zip\"\n",
    "target_size = 10000\n",
    "\n",
    "archive_number = 1\n",
    "\n",
    "#archive_name = str('zip'+str(archive_number)+'.zip')\n",
    "archive_name = f'zip{archive_number}.zip'\n",
    "\n",
    "myzip = zipfile.ZipFile(archive_name, 'w', compression=zipfile.ZIP_DEFLATED)\n",
    "\n",
    "for file in filelist:\n",
    "    myzip.write(file)\n",
    "    current_size = os.stat(archive_name).st_size/1000\n",
    "    print(\"current file size is\", current_size, \"kb, give or take\")\n",
    "    if current_size > (target_size):\n",
    "        print(\"reached target file size\")\n",
    "        print(\"closing file \", archive_name)\n",
    "        myzip.close()\n",
    "        \n",
    "        archive_number = archive_number+1\n",
    "        print(\"iterating number to \", archive_number)\n",
    "\n",
    "        archive_name = str('zip'+str(archive_number)+'.zip')\n",
    "        print(\"opening file \", archive_name)\n",
    "        myzip = zipfile.ZipFile(archive_name, 'w', compression=zipfile.ZIP_DEFLATED)\n",
    "\n",
    "    \n",
    "myzip.close()"
   ]
  },
  {
   "cell_type": "code",
   "execution_count": 84,
   "metadata": {},
   "outputs": [],
   "source": [
    "myzip.close()"
   ]
  },
  {
   "cell_type": "code",
   "execution_count": 83,
   "metadata": {},
   "outputs": [],
   "source": [
    "myzip = zipfile.ZipFile('zip1.zip', 'w', compression=zipfile.ZIP_DEFLATED)"
   ]
  },
  {
   "cell_type": "code",
   "execution_count": 68,
   "metadata": {},
   "outputs": [
    {
     "data": {
      "text/plain": [
       "<zipfile.ZipFile filename='zip1.zip' mode='w'>"
      ]
     },
     "execution_count": 68,
     "metadata": {},
     "output_type": "execute_result"
    }
   ],
   "source": [
    "myzip"
   ]
  },
  {
   "cell_type": "code",
   "execution_count": 69,
   "metadata": {},
   "outputs": [
    {
     "ename": "AttributeError",
     "evalue": "'ZipFile' object has no attribute 'name'",
     "output_type": "error",
     "traceback": [
      "\u001b[1;31m---------------------------------------------------------------------------\u001b[0m",
      "\u001b[1;31mAttributeError\u001b[0m                            Traceback (most recent call last)",
      "\u001b[1;32m<ipython-input-69-5fe44a6a03e9>\u001b[0m in \u001b[0;36m<module>\u001b[1;34m\u001b[0m\n\u001b[1;32m----> 1\u001b[1;33m \u001b[0mmyzip\u001b[0m\u001b[1;33m.\u001b[0m\u001b[0mname\u001b[0m\u001b[1;33m\u001b[0m\u001b[1;33m\u001b[0m\u001b[0m\n\u001b[0m",
      "\u001b[1;31mAttributeError\u001b[0m: 'ZipFile' object has no attribute 'name'"
     ]
    }
   ],
   "source": [
    "myzip.name"
   ]
  },
  {
   "cell_type": "code",
   "execution_count": null,
   "metadata": {},
   "outputs": [],
   "source": []
  }
 ],
 "metadata": {
  "kernelspec": {
   "display_name": "Python 3",
   "language": "python",
   "name": "python3"
  },
  "language_info": {
   "codemirror_mode": {
    "name": "ipython",
    "version": 3
   },
   "file_extension": ".py",
   "mimetype": "text/x-python",
   "name": "python",
   "nbconvert_exporter": "python",
   "pygments_lexer": "ipython3",
   "version": "3.8.5"
  }
 },
 "nbformat": 4,
 "nbformat_minor": 4
}
