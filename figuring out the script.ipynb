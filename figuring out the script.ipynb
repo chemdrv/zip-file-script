{
 "cells": [
  {
   "cell_type": "code",
   "execution_count": 2,
   "metadata": {},
   "outputs": [],
   "source": [
    "import os\n",
    "import zipfile\n",
    "import glob"
   ]
  },
  {
   "cell_type": "markdown",
   "metadata": {},
   "source": [
    "# Some information\n",
    "\n",
    "The way this works. First it grabs a list of every pdf in the folder you're currently in. So, you need to be in the right folder. I can also change it to take a path as a variable, I just haven't bothered to be that clever yet. But anyway, `glob.glob('*pdf')` is the line that grabs all filenames meeting the spec of being a PDF.\n",
    "\n",
    "Then it does some initial setup. I set the size of the target file in kb. `archive_number` is an iterator to set what zip file number I'm in. Then I construct the filename for the first zip file and open it up.\n",
    "\n",
    "Then there's the loop to actually do it. Within the loop, it's stepping through each file in the glob. It writes each file, and then checks the zip file size. If the file size has gone over the target size, that triggers the `if` statement. Within that statement, the current file is closed, the archive number is increased by one, and a new archive opened up.\n",
    "\n",
    "After the loop is over, the current file is closed.\n"
   ]
  },
  {
   "cell_type": "code",
   "execution_count": 4,
   "metadata": {},
   "outputs": [
    {
     "name": "stdout",
     "output_type": "stream",
     "text": [
      "current file size is 5984.274 kb, give or take\n",
      "current file size is 6354.168 kb, give or take\n",
      "current file size is 6557.737 kb, give or take\n",
      "current file size is 6883.195 kb, give or take\n",
      "current file size is 7086.064 kb, give or take\n",
      "current file size is 7323.47 kb, give or take\n",
      "current file size is 7798.764 kb, give or take\n",
      "current file size is 8263.424 kb, give or take\n",
      "current file size is 10057.837 kb, give or take\n",
      "reached target file size\n",
      "closing file  zip1.zip\n",
      "iterating number to  2\n",
      "opening file  zip2.zip\n",
      "current file size is 1405.702 kb, give or take\n",
      "current file size is 2438.849 kb, give or take\n",
      "current file size is 5681.609 kb, give or take\n",
      "current file size is 6459.763 kb, give or take\n",
      "current file size is 9036.199 kb, give or take\n",
      "current file size is 9573.102 kb, give or take\n",
      "current file size is 10539.193 kb, give or take\n",
      "reached target file size\n",
      "closing file  zip2.zip\n",
      "iterating number to  3\n",
      "opening file  zip3.zip\n",
      "current file size is 2320.9 kb, give or take\n",
      "current file size is 2838.487 kb, give or take\n",
      "current file size is 3428.673 kb, give or take\n",
      "current file size is 3772.962 kb, give or take\n",
      "current file size is 5408.12 kb, give or take\n",
      "current file size is 6367.757 kb, give or take\n",
      "current file size is 7189.16 kb, give or take\n",
      "current file size is 8692.101 kb, give or take\n",
      "current file size is 10145.301 kb, give or take\n",
      "reached target file size\n",
      "closing file  zip3.zip\n",
      "iterating number to  4\n",
      "opening file  zip4.zip\n"
     ]
    }
   ],
   "source": [
    "filelist = glob.glob('*.pdf')\n",
    "\n",
    "target_size = 10000\n",
    "\n",
    "archive_number = 1\n",
    "\n",
    "archive_name = f'zip{archive_number}.zip'\n",
    "\n",
    "myzip = zipfile.ZipFile(archive_name, 'w', compression=zipfile.ZIP_DEFLATED)\n",
    "\n",
    "for file in filelist:\n",
    "    myzip.write(file)\n",
    "    current_size = os.stat(archive_name).st_size/1000\n",
    "    print(\"current file size is\", current_size, \"kb, give or take\")\n",
    "    if current_size > (target_size):\n",
    "        print(\"reached target file size\")\n",
    "        print(\"closing file \", archive_name)\n",
    "        myzip.close()\n",
    "        \n",
    "        archive_number = archive_number+1\n",
    "        print(\"iterating number to \", archive_number)\n",
    "\n",
    "        archive_name = str('zip'+str(archive_number)+'.zip')\n",
    "        print(\"opening file \", archive_name)\n",
    "        myzip = zipfile.ZipFile(archive_name, 'w', compression=zipfile.ZIP_DEFLATED)\n",
    "\n",
    "    \n",
    "myzip.close()"
   ]
  },
  {
   "cell_type": "code",
   "execution_count": null,
   "metadata": {},
   "outputs": [],
   "source": []
  }
 ],
 "metadata": {
  "kernelspec": {
   "display_name": "Python 3",
   "language": "python",
   "name": "python3"
  },
  "language_info": {
   "codemirror_mode": {
    "name": "ipython",
    "version": 3
   },
   "file_extension": ".py",
   "mimetype": "text/x-python",
   "name": "python",
   "nbconvert_exporter": "python",
   "pygments_lexer": "ipython3",
   "version": "3.8.5"
  }
 },
 "nbformat": 4,
 "nbformat_minor": 4
}
